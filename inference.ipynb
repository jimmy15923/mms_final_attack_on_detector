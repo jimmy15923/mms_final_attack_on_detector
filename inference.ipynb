{
 "cells": [
  {
   "cell_type": "code",
   "execution_count": 1,
   "metadata": {},
   "outputs": [
    {
     "name": "stdout",
     "output_type": "stream",
     "text": [
      "Mon Jun  6 02:28:36 2022       \n",
      "+-----------------------------------------------------------------------------+\n",
      "| NVIDIA-SMI 440.33.01    Driver Version: 440.33.01    CUDA Version: 10.2     |\n",
      "|-------------------------------+----------------------+----------------------+\n",
      "| GPU  Name        Persistence-M| Bus-Id        Disp.A | Volatile Uncorr. ECC |\n",
      "| Fan  Temp  Perf  Pwr:Usage/Cap|         Memory-Usage | GPU-Util  Compute M. |\n",
      "|===============================+======================+======================|\n",
      "|   0  GeForce GTX 108...  Off  | 00000000:1A:00.0 Off |                  N/A |\n",
      "| 31%   44C    P2   173W / 250W |  11045MiB / 11178MiB |    100%      Default |\n",
      "+-------------------------------+----------------------+----------------------+\n",
      "|   1  GeForce GTX 108...  Off  | 00000000:1B:00.0 Off |                  N/A |\n",
      "| 29%   27C    P8     8W / 250W |    847MiB / 11178MiB |      0%      Default |\n",
      "+-------------------------------+----------------------+----------------------+\n",
      "|   2  GeForce GTX 108...  Off  | 00000000:1C:00.0 Off |                  N/A |\n",
      "| 31%   43C    P2    72W / 250W |  11077MiB / 11178MiB |      5%      Default |\n",
      "+-------------------------------+----------------------+----------------------+\n",
      "|   3  GeForce GTX 108...  Off  | 00000000:1D:00.0 Off |                  N/A |\n",
      "| 31%   43C    P2    73W / 250W |   6681MiB / 11178MiB |      1%      Default |\n",
      "+-------------------------------+----------------------+----------------------+\n",
      "|   4  GeForce GTX 108...  Off  | 00000000:1E:00.0 Off |                  N/A |\n",
      "| 32%   45C    P2    74W / 250W |   6713MiB / 11178MiB |     11%      Default |\n",
      "+-------------------------------+----------------------+----------------------+\n",
      "|   5  GeForce GTX 108...  Off  | 00000000:3D:00.0 Off |                  N/A |\n",
      "| 30%   43C    P2    74W / 250W |  10135MiB / 11178MiB |      3%      Default |\n",
      "+-------------------------------+----------------------+----------------------+\n",
      "|   6  GeForce GTX 108...  Off  | 00000000:3E:00.0 Off |                  N/A |\n",
      "| 29%   43C    P2    71W / 250W |   6679MiB / 11178MiB |      9%      Default |\n",
      "+-------------------------------+----------------------+----------------------+\n",
      "|   7  GeForce GTX 108...  Off  | 00000000:3F:00.0 Off |                  N/A |\n",
      "| 29%   42C    P2   175W / 250W |  10595MiB / 11178MiB |     99%      Default |\n",
      "+-------------------------------+----------------------+----------------------+\n",
      "|   8  GeForce GTX 108...  Off  | 00000000:40:00.0 Off |                  N/A |\n",
      "| 43%   58C    P2   220W / 250W |   7743MiB / 11178MiB |     83%      Default |\n",
      "+-------------------------------+----------------------+----------------------+\n",
      "|   9  GeForce GTX 108...  Off  | 00000000:41:00.0 Off |                  N/A |\n",
      "| 29%   40C    P2    71W / 250W |  11047MiB / 11178MiB |      8%      Default |\n",
      "+-------------------------------+----------------------+----------------------+\n",
      "                                                                               \n",
      "+-----------------------------------------------------------------------------+\n",
      "| Processes:                                                       GPU Memory |\n",
      "|  GPU       PID   Type   Process name                             Usage      |\n",
      "|=============================================================================|\n",
      "|    0    131131      C   python                                     11035MiB |\n",
      "|    1    215908      C   ...23/anaconda3/envs/pointcloud/bin/python   837MiB |\n",
      "|    2    121453      C   python                                     11067MiB |\n",
      "|    3     37920      C   python                                      6671MiB |\n",
      "|    4    128987      C   python                                      6703MiB |\n",
      "|    5    202682      C   python                                     10125MiB |\n",
      "|    6    205635      C   python                                      6669MiB |\n",
      "|    7    119806      C   python                                     10585MiB |\n",
      "|    8       473      C   python                                      7733MiB |\n",
      "|    9    169020      C   python                                     11037MiB |\n",
      "+-----------------------------------------------------------------------------+\n"
     ]
    }
   ],
   "source": [
    "!nvidia-smi"
   ]
  },
  {
   "cell_type": "code",
   "execution_count": 25,
   "metadata": {},
   "outputs": [],
   "source": [
    "from pathlib import Path\n",
    "from tqdm import tqdm"
   ]
  },
  {
   "cell_type": "code",
   "execution_count": 12,
   "metadata": {},
   "outputs": [],
   "source": [
    "from mmdet.apis import init_detector, inference_detector, show_result_pyplot\n",
    "import matplotlib.pyplot as plt\n",
    "import mmcv\n",
    "import glob"
   ]
  },
  {
   "cell_type": "code",
   "execution_count": 81,
   "metadata": {},
   "outputs": [],
   "source": [
    "config_file = 'mmdetection/configs/faster_rcnn/faster_rcnn_r50_fpn_1x_coco.py'\n",
    "# download the checkpoint from model zoo and put it in `checkpoints/`\n",
    "# url: https://download.openmmlab.com/mmdetection/v2.0/faster_rcnn/faster_rcnn_r50_fpn_1x_coco/faster_rcnn_r50_fpn_1x_coco_20200130-047c8118.pth\n",
    "checkpoint_file = 'mmdetection/checkpoint/faster_rcnn_r50_fpn_1x_coco_20200130-047c8118.pth'"
   ]
  },
  {
   "cell_type": "code",
   "execution_count": 60,
   "metadata": {},
   "outputs": [],
   "source": [
    "config_file = 'mmdetection/configs/yolo/yolov3_d53_320_273e_coco.py'\n",
    "# download the checkpoint from model zoo and put it in `checkpoints/`\n",
    "# url: https://download.openmmlab.com/mmdetection/v2.0/faster_rcnn/faster_rcnn_r50_fpn_1x_coco/faster_rcnn_r50_fpn_1x_coco_20200130-047c8118.pth\n",
    "checkpoint_file = 'mmdetection/checkpoint/yolov3_d53_320_273e_coco-421362b6.pth'"
   ]
  },
  {
   "cell_type": "code",
   "execution_count": 82,
   "metadata": {},
   "outputs": [
    {
     "name": "stdout",
     "output_type": "stream",
     "text": [
      "load checkpoint from local path: mmdetection/checkpoint/faster_rcnn_r50_fpn_1x_coco_20200130-047c8118.pth\n"
     ]
    }
   ],
   "source": [
    "# build the model from a config file and a checkpoint file\n",
    "model = init_detector(config_file, checkpoint_file, device='cuda:1')"
   ]
  },
  {
   "cell_type": "code",
   "execution_count": 6,
   "metadata": {},
   "outputs": [],
   "source": [
    "# test a single image\n",
    "img = './data/imagenette2/val/n03425413/ILSVRC2012_val_00001432.JPEG'\n",
    "result = inference_detector(model, img)"
   ]
  },
  {
   "cell_type": "code",
   "execution_count": 62,
   "metadata": {},
   "outputs": [],
   "source": [
    "images = glob.glob('./data/imagenette2/val/*/*.JPEG')"
   ]
  },
  {
   "cell_type": "code",
   "execution_count": 54,
   "metadata": {},
   "outputs": [],
   "source": [
    "from tqdm import tqdm_notebook"
   ]
  },
  {
   "cell_type": "code",
   "execution_count": 83,
   "metadata": {},
   "outputs": [],
   "source": [
    "!rm results/*/*"
   ]
  },
  {
   "cell_type": "code",
   "execution_count": 77,
   "metadata": {},
   "outputs": [],
   "source": [
    "for x in cats:\n",
    "    os.makedirs(f'yolo_results/{x}', exist_ok=True)"
   ]
  },
  {
   "cell_type": "code",
   "execution_count": 84,
   "metadata": {},
   "outputs": [
    {
     "data": {
      "application/vnd.jupyter.widget-view+json": {
       "model_id": "31312d54cc8a47e8a2609d4460fe237b",
       "version_major": 2,
       "version_minor": 0
      },
      "text/plain": [
       "HBox(children=(IntProgress(value=0, max=2421), HTML(value='')))"
      ]
     },
     "metadata": {},
     "output_type": "display_data"
    },
    {
     "name": "stderr",
     "output_type": "stream",
     "text": [
      "/home/jimmy15923/Adversarial-attack-embedding-analysis-master/mmdetection/mmdet/datasets/utils.py:70: UserWarning: \"ImageToTensor\" pipeline is replaced by \"DefaultFormatBundle\" for batch inference. It is recommended to manually replace it in the test data pipeline in your config file.\n",
      "  'data pipeline in your config file.', UserWarning)\n"
     ]
    },
    {
     "name": "stdout",
     "output_type": "stream",
     "text": [
      "\n"
     ]
    }
   ],
   "source": [
    "for img in tqdm_notebook(sorted(images)):\n",
    "    result = inference_detector(model, img)   \n",
    "    cls = Path(img).parents[0].stem\n",
    "    out_file = f'results/{cls}/{Path(img).stem}_raw.png'\n",
    "    show_result_pyplot(model, img, result, title='Original', out_file=out_file)\n"
   ]
  },
  {
   "cell_type": "code",
   "execution_count": 85,
   "metadata": {},
   "outputs": [
    {
     "data": {
      "application/vnd.jupyter.widget-view+json": {
       "model_id": "97ca7936d33147ef957c4ad414abe70f",
       "version_major": 2,
       "version_minor": 0
      },
      "text/plain": [
       "HBox(children=(IntProgress(value=0, max=2936), HTML(value='')))"
      ]
     },
     "metadata": {},
     "output_type": "display_data"
    },
    {
     "name": "stdout",
     "output_type": "stream",
     "text": [
      "\n"
     ]
    }
   ],
   "source": [
    "images = glob.glob('./adv_example/deepfool/resnet50//*/*.JPEG')\n",
    "for img in tqdm_notebook(sorted(images)):\n",
    "    result = inference_detector(model, img)   \n",
    "    cls = Path(img).parents[0].stem\n",
    "    out_file = f'results/{cls}/{Path(img).stem}_deepfool.png'\n",
    "    show_result_pyplot(model, img, result, title='Original', out_file=out_file)"
   ]
  },
  {
   "cell_type": "code",
   "execution_count": 86,
   "metadata": {},
   "outputs": [
    {
     "data": {
      "application/vnd.jupyter.widget-view+json": {
       "model_id": "9a64585f643e4b2b9e3b665dc4ee1e82",
       "version_major": 2,
       "version_minor": 0
      },
      "text/plain": [
       "HBox(children=(IntProgress(value=0, max=2421), HTML(value='')))"
      ]
     },
     "metadata": {},
     "output_type": "display_data"
    },
    {
     "name": "stdout",
     "output_type": "stream",
     "text": [
      "\n"
     ]
    }
   ],
   "source": [
    "images = glob.glob('./adv_example/fgsm_un//resnet50//*/*.JPEG')\n",
    "for img in tqdm_notebook(sorted(images)):\n",
    "    result = inference_detector(model, img)   \n",
    "    cls = Path(img).parents[0].stem\n",
    "    out_file = f'results/{cls}/{Path(img).stem}_fgsm.png'\n",
    "    show_result_pyplot(model, img, result, title='Original', out_file=out_file)"
   ]
  },
  {
   "cell_type": "code",
   "execution_count": 66,
   "metadata": {},
   "outputs": [
    {
     "data": {
      "text/plain": [
       "'n03445777'"
      ]
     },
     "execution_count": 66,
     "metadata": {},
     "output_type": "execute_result"
    }
   ],
   "source": [
    "x"
   ]
  }
 ],
 "metadata": {
  "kernelspec": {
   "display_name": "Python 3.7.4 64-bit ('anaconda3': virtualenv)",
   "language": "python",
   "name": "python37464bitanaconda3virtualenvea7fd8b946fa48e696f433388f3ef97f"
  },
  "language_info": {
   "codemirror_mode": {
    "name": "ipython",
    "version": 3
   },
   "file_extension": ".py",
   "mimetype": "text/x-python",
   "name": "python",
   "nbconvert_exporter": "python",
   "pygments_lexer": "ipython3",
   "version": "3.7.4"
  }
 },
 "nbformat": 4,
 "nbformat_minor": 4
}
